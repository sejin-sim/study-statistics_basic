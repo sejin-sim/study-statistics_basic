{
 "cells": [
  {
   "cell_type": "markdown",
   "metadata": {},
   "source": [
    "# 10장 가설검정의 기초\n",
    "\n",
    "## 1. 가설검정의 개념\n",
    "\n",
    "- 통계적 가설검정\n",
    "    \n",
    "    : 표본에서 얻은 사실을 근거로 하여, 모집단에 대한 가설이 맞는지 틀리는지 통계적으로 분석하는 방법을 통계적 가설검정이라고 한다.\n",
    "    \n",
    "\n",
    "## 2. 가설검정의 기본용어\n",
    "\n",
    "- 귀무가설과 대립가설\n",
    "    - 귀무가설(= $H_0$)은 직접 검정대상이 되는 가설\n",
    "    - 대립가설(= $H_a$)은 귀무가설이 기각될 때 받아들여지는 가설\n",
    "- 유의수준과 입계값\n",
    "    - 유의수준(significance level) : 오류의 가능성\n",
    "    - 임계 값(critical value) : 주어진 유의수준에서 채택과 기각에 관련된 의사결정을 할 때, 그 기준이 되는 점 → 기각영역과 채택영역이 결정 됨\n",
    "- 양측검정과 단측검정\n",
    "    - 양측검정(two-tailed test) : 가설검증에서 기각영역이 양쪽에 있는 것\n",
    "    - 단측검정(one-tailed test) : 가설검정에서 기각영역이 어느 한쪽에만 있게 되는 경우\n",
    "\n",
    "## 3. 가설검정의 오류\n",
    "\n",
    "- 제1종 오류와 제2종오류\n",
    "    - 제1종오류(=$\\alpha$-오류=type 1 error)\n",
    "        \n",
    "        : 실제로는 귀무가설이 옳은데도 검정 결과 귀무가설을 기각하는 오류 \n",
    "        \n",
    "    - 제2종오류(=$\\beta$-오류=type 2 error)\n",
    "        \n",
    "        : 실제로는 귀무가설이 틀렸는데도 검정 결과 귀무가설이 옳은 것으로 받아들이는 오류\n",
    "        \n",
    "    - 좋은 통계적 검정법 : 주어진 유의수준을 만족하면서 제2종오류의 가능성을 최소로 하는 것\n",
    "\n",
    "## 4. 가설검정의 순서 및 예\n",
    "\n",
    "- 귀무가설의 순서\n",
    "    - 귀무가설과 대립가설의 설정\n",
    "    - 유의수준의 결정\n",
    "    - 유의수준을 충족시키는 임계값의 결정\n",
    "    - 통계량의 계산과 임계값과의 비교\n",
    "    - 결과의 해석"
   ]
  }
 ],
 "metadata": {
  "kernelspec": {
   "display_name": "Python 3.9.7 ('my_env': venv)",
   "language": "python",
   "name": "python3"
  },
  "language_info": {
   "codemirror_mode": {
    "name": "ipython",
    "version": 3
   },
   "file_extension": ".py",
   "mimetype": "text/x-python",
   "name": "python",
   "nbconvert_exporter": "python",
   "pygments_lexer": "ipython3",
   "version": "3.9.7"
  },
  "orig_nbformat": 4,
  "vscode": {
   "interpreter": {
    "hash": "47e8d93c821fd64fc91b2f2dad2d85f01e2b7f7496161335704d46221259d4dd"
   }
  }
 },
 "nbformat": 4,
 "nbformat_minor": 2
}
