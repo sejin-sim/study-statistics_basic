{
 "cells": [
  {
   "cell_type": "markdown",
   "metadata": {},
   "source": [
    "\n",
    "# 7장 연속확률분포\n",
    "\n",
    "## 1. 균일분포\n",
    "\n",
    "- 균일분포(uniform distribution) : 연속확률분포 중에 가장 간단한 분포\n",
    "- 균일분포의 확률밀도함수 : 확률변수가 취하는 모든 구간에서 각 사건의 발생확률이 일정\n",
    "    - $f(X) = \\frac{1}{b-a}, a≤ X ≤ b$\n",
    "    - 밀도함수의 면적의 합계 = 1\n",
    "\n",
    "## 2. 정규분포\n",
    "\n",
    "- 정규분포(=가우스분포 Gaussian distribution) : 연속확률분포 중 가장 널리 이용되는 주요 분포\n",
    "- 정규분포는 표본을 통한 통계적 추정 및 가설검정 이론의 기본이 됨\n",
    "- 정규분포의 확률밀도함수\n",
    "    - $f(X) = \\frac{1}{\\sqrt{2 \\pi \\sigma^2}} e^{-(x-\\mu)^2} , -\\infin < X < + \\infin$\n",
    "        - $\\pi$ $= 3.1416$ (원주율:상수), $e = 2.7183$(자연대수 : 상수)\n",
    "        - $\\mu =$ 분포의 평균, $\\sigma =$ 분포의 표준편차\n",
    "- 정규분포의 특성\n",
    "    1. 정규분포의 모양과 위치는 분포의 평균과 표준편차로 결정\n",
    "    2. 정규분포의 확률밀도함수는 평균($\\mu$)를 중심으로 대칭인 종모양\n",
    "    3. 정규곡선은 X축에 맞닿지 않으므로 확률변수 X가 취할 수 있는 값의 범위는  $- \\infin < X < + \\infin$\n",
    "    4. 분포의 평균($\\mu$)과 표준편차($\\sigma$)가 어떤 값을 갖더라도, 정규곡선과 X축 사이의 전체면적 = 1\n",
    "- 정규분포에서의 확률\n",
    "    - 이산확률분포에서는 확률변수에 대응되는 확률이 존재하며, 그림표에서 높이로 나타낼 수 있음\n",
    "    - 연속확률분포에서는 확률변수의 일정구간에 대하여 확률 계산이 필요 → 높이 대신 넓이\n",
    "    - 표준정규분포를 이용하여 분포의 모양을 통일한 후 확률 계산 방식이 편리\n",
    "- 표준정규분포\n",
    "    - 모든 정규분포의 평균과 표준편차를 표준화하여 표준적인 정규분포를 만들어야 함\n",
    "    - 모든 정규분포의 평균 $\\mu = 0$, 표준편차 $\\sigma=1$ (기존 표준편차 단위를 1로)이 되도록 표준화.\n",
    "    - X의 관찰값이 그 분포의 평균으로부터 표준편차의 몇 배 정도나 떨어져 있는가를 표준화된 확률변수 Z로 나타내기 때문에 표준정규분포 = Z-분포라고 함\n",
    "        - $Z = \\frac{X-\\mu}{\\sigma}$"
   ]
  }
 ],
 "metadata": {
  "interpreter": {
   "hash": "4f3d3d6c5c69fb4fe3df8a42cd3cf8ec30e664976476b35ad609d0469663326d"
  },
  "kernelspec": {
   "display_name": "Python 3.9.7 ('my_env': venv)",
   "language": "python",
   "name": "python3"
  },
  "language_info": {
   "codemirror_mode": {
    "name": "ipython",
    "version": 3
   },
   "file_extension": ".py",
   "mimetype": "text/x-python",
   "name": "python",
   "nbconvert_exporter": "python",
   "pygments_lexer": "ipython3",
   "version": "3.9.7"
  },
  "orig_nbformat": 4
 },
 "nbformat": 4,
 "nbformat_minor": 2
}
