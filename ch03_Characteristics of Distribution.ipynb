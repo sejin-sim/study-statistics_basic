{
 "cells": [
  {
   "cell_type": "markdown",
   "metadata": {},
   "source": [
    "\n",
    "# **3장 분포의 특성**\n",
    "\n",
    "## 1. 집중화 경향\n",
    "\n",
    ": 관찰된 자료들이 어디에 집중되어 있는가를 나타내주는 것. 대표적 : 산술평균, 중앙값, 최빈값\n",
    "\n",
    "- 최빈값 : 분포에서  빈도수가 어느 곳에 가장 많이 모여있는 가\n",
    "- 중앙값 : 수치로 된 자료를 크기 순서대로 나열할 때, 가장 가운데에 위치하는 관찰값\n",
    "    - $Md$ = 중앙값 = $\\frac{(n+1)}{2}$번째 관찰 값 (이산)\n",
    "    - $Md$ = $L + i  \\cdot$  $\\frac{(n+1)/2-F}{f}$번째 관찰 값 (연속)\n",
    "        - $L$ = 중앙값이 있는 구간의 정확하한계, $F = L$까지의 누적빈도\n",
    "        - $f$ = 중앙값이 있는 구간의 빈도, $i$ = 구간의 크기\n",
    "- 산술평균 : 모집단의 평균 $\\mu$, 표본의 평균 $\\bar{X}$ (가장 많이 사용 됨)\n",
    "    - $\\mu = \\frac{X_1 + X_2 + \\cdots + X_N}{N} = \\frac{\\sum X_i }{N}$\n",
    "    - $\\bar{X} = \\frac{X_1 + X_2 + \\cdots + X_n}{n} = \\frac{\\sum X_i }{n} = \\frac{f_1 X_1 + f_2 X_2 + \\cdots + X_m}{m} = \\frac{\\sum f_c X_c }{n}$ 도수분포표인 경우\n",
    "        - $f_c$ = 각 등급의 빈도, $x_c$ = 해당 등급의 중간점\n",
    "- 가중산술평균 : 집단별로 다른 가중치를 부여하는 경우\n",
    "    - $\\bar{X} = \\frac{n_1\\bar{X_1} + n_2\\bar{X_2} + \\cdots + n_k \\bar{X_k} }{n_1 + n_2 + \\cdots + n_k} = \\frac{\\sum n_i \\bar{X_i}}{\\sum n_i}$\n",
    "\n",
    "- 집중화경향 대표값들의 위치\n",
    "    \n",
    "    : 분포의 양상에 따라서 평균, 중앙값, 최빈값이 차지하는 위치는 서로 다름\n",
    "    \n",
    "      = 경우에 따라 집단을 대표하는 집중화 경향값이 달라짐\n",
    "    \n",
    "    <img src=\"img\\분포의양상.png\" width=50%>\n",
    "    \n",
    "\n",
    "## 2. 분산도\n",
    "\n",
    ": 관찰된 자료가 흩어져 있는 정도. 분산도를 나타내는 방법 : 범위, 평균편차, 표준편차, 분산\n",
    "\n",
    "- 범위 : 가장 큰 수치와 가장 작은 수치의 차\n",
    "    - 단점 : 극단적인 수치 사이에서 분포 양상 설명 불가\n",
    "- 평균편차 : 관찰값과 산술평균 차이들의 평균 = 집단의 평균을 중심으로 얼마나 떨어져 있는지\n",
    "    - $AD =$ $\\frac{\\sum \\left|X_i - \\bar{X}\\right|}{n}$\n",
    "- 분산과 표준편차\n",
    "    - 모집단의 분산 $= \\sigma^2 = \\frac{\\sum(X_i - \\mu)^2}{N}$ = 각각의 편차를 제곱하여 평균을 구함\n",
    "    - 표본의 분산 $= S^2 = \\frac{\\sum(X_i - \\bar{X})^2}{n-1}$ = n-1인 이유는 모집단의 $\\sigma$ 추정 시 적절 표준편차 위해\n",
    "        - 모든 모집단이 같으면 $\\sigma^2 = 0$, 차이가 클 수록 $\\sigma^2$ ↑\n",
    "        - 문제점 : 편차를 제곱하였기 때문에 분산의 단위로 관찰값의 단위 그대로 사용 불가\n",
    "    - 모집단의 표준편차 $= \\sigma = \\sqrt{\\sigma^2} = \\sqrt{\\frac{\\sum(X_i - \\mu)^2}{N}}$ = 분산에 제곱근을 취함\n",
    "    - 표본의 표준편차 = $S = \\sqrt{S^2} = \\sqrt{\\frac{\\sum(X_i - \\bar{X})^2}{n-1}}$\n",
    "        - 분산의 특성도 있고, 관찰값이나 대푯값과 동일한 단위로 사용할 수 있어서 분산도 척도로 널리 쓰임\n",
    "\n",
    "## 3. 비대칭도\n",
    "\n",
    ": 분포의 성격을 더 잘 알기 위해 분포 모양이 대칭분포에서 얼마나 벗어났는가 알아보는 방법으로 집중화경향값인 살술평균과 중앙값을 비교\n",
    "\n",
    "- 피어슨의 비대칭도 : 산술평균과 중앙값의 차이가 표준편차에 비해 얼마나 떨어져 있음을 나타냄\n",
    "    - $Sk = \\frac{3 \\bar{X} - Md}{S}$\n",
    "        - $S$ = 표준편차, $Md$ = 중앙값\n",
    "        - (-) 음의 값은 왼쪽 꼬리분포, (+) 양의 값은 오른쪽 꼬리분포를 갖는다."
   ]
  },
  {
   "cell_type": "markdown",
   "metadata": {},
   "source": [
    "# 연습문제"
   ]
  },
  {
   "cell_type": "code",
   "execution_count": 5,
   "metadata": {},
   "outputs": [],
   "source": [
    "import pandas as pd\n",
    "import numpy as np\n",
    "import seaborn as sns\n",
    "import matplotlib.pyplot as plt\n",
    "from matplotlib import font_manager, rc\n",
    "import scipy as sp\n",
    "\n",
    "# Plot 그릴 때 한국어 깨짐 방지\n",
    "font_path = \"C:/Windows/Fonts/gulim.ttc\"\n",
    "font = font_manager.FontProperties(fname=font_path).get_name()\n",
    "rc('font', family=font)\n",
    "rc('font', size=11)"
   ]
  },
  {
   "cell_type": "markdown",
   "metadata": {},
   "source": [
    "- 다음 자료의 산술평균, 중앙값, 최빈값을 구하여라"
   ]
  },
  {
   "cell_type": "code",
   "execution_count": 12,
   "metadata": {},
   "outputs": [
    {
     "name": "stdout",
     "output_type": "stream",
     "text": [
      "5.1 5.0 5\n",
      "49.8 49.5\n"
     ]
    }
   ],
   "source": [
    "a = np.array([3,5,2,6,5,9,5,2,8,6])\n",
    "b = np.array([51.6,48.7,50.3,49.5,48.9])\n",
    "\n",
    "print(a.mean(), np.median(a), *sp.stats.mode(a)[0])\n",
    "print(round(b.mean(),2), np.median(b))"
   ]
  },
  {
   "cell_type": "markdown",
   "metadata": {},
   "source": [
    "- 전체 학생들의 평균 체중"
   ]
  },
  {
   "cell_type": "code",
   "execution_count": 16,
   "metadata": {},
   "outputs": [
    {
     "name": "stdout",
     "output_type": "stream",
     "text": [
      "63.44444444444444\n"
     ]
    }
   ],
   "source": [
    "print(np.sum([15*63, 20*62, 10*66, 18*64])/(15+20+10+18))"
   ]
  },
  {
   "cell_type": "markdown",
   "metadata": {},
   "source": [
    "- 다음 자료의 범위, 산술평균, 평균편차, 분산을 구하여라"
   ]
  },
  {
   "cell_type": "code",
   "execution_count": 54,
   "metadata": {},
   "outputs": [
    {
     "name": "stdout",
     "output_type": "stream",
     "text": [
      "15 9.5 4.25 4.873397172404482 23.749999999999996\n",
      "15 9.0 2.25 3.872983346207417 15.000000000000002\n"
     ]
    }
   ],
   "source": [
    "a = np.array([12,6,7,3,15,10,18,5])\n",
    "b = np.array([9,3,8,8,9,8,9,18])\n",
    "\n",
    "print(max(a)-min(a), a.mean(), *pd.DataFrame(a).mad(), np.std(a), np.std(a)**2)\n",
    "print(max(b)-min(b), b.mean(), *pd.DataFrame(b).mad(), np.std(b), np.std(b)**2)"
   ]
  },
  {
   "cell_type": "markdown",
   "metadata": {},
   "source": [
    "- 10명 학생의 정답수를 세어본 결과로 분산, 표준편차, 비대칭도를 구하라"
   ]
  },
  {
   "cell_type": "code",
   "execution_count": 74,
   "metadata": {},
   "outputs": [
    {
     "name": "stdout",
     "output_type": "stream",
     "text": [
      "   X  f  편차  분산  f*분산\n",
      "0  3  2  -3   9    18\n",
      "1  5  3  -1   1     3\n",
      "2  7  2   1   1     2\n",
      "3  8  2   2   4     8\n",
      "4  9  1   3   9     9\n",
      "4.0\n",
      "2.0\n",
      "0.0 =대칭분포\n"
     ]
    }
   ],
   "source": [
    "st = np.array([[3,5,7,8,9],[2,3,2,2,1]])\n",
    "st = pd.DataFrame(st.T, columns=['X', 'f'])\n",
    "X_bar = np.mean(st['X'])\n",
    "st['편차'] = st['X'] - int(X_bar)\n",
    "st['분산'] = st['편차']**2\n",
    "st['f*분산'] = st['f'] * st['분산']\n",
    "print(st)\n",
    "print(sum(st['f*분산'])/sum(st['f']))\n",
    "print(np.sqrt(sum(st['f*분산'])/sum(st['f'])))\n",
    "print( 3*(int(X_bar)-6)/(sum(st['f*분산'])/sum(st['f'])), \"=대칭분포\")\n"
   ]
  }
 ],
 "metadata": {
  "interpreter": {
   "hash": "4f3d3d6c5c69fb4fe3df8a42cd3cf8ec30e664976476b35ad609d0469663326d"
  },
  "kernelspec": {
   "display_name": "Python 3.9.7 ('my_env': venv)",
   "language": "python",
   "name": "python3"
  },
  "language_info": {
   "codemirror_mode": {
    "name": "ipython",
    "version": 3
   },
   "file_extension": ".py",
   "mimetype": "text/x-python",
   "name": "python",
   "nbconvert_exporter": "python",
   "pygments_lexer": "ipython3",
   "version": "3.9.7"
  },
  "orig_nbformat": 4
 },
 "nbformat": 4,
 "nbformat_minor": 2
}
