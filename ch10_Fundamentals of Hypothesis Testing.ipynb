{
 "cells": [],
 "metadata": {
  "interpreter": {
   "hash": "4f3d3d6c5c69fb4fe3df8a42cd3cf8ec30e664976476b35ad609d0469663326d"
  },
  "kernelspec": {
   "display_name": "Python 3.9.7 ('my_env': venv)",
   "language": "python",
   "name": "python3"
  },
  "language_info": {
   "codemirror_mode": {
    "name": "ipython",
    "version": 3
   },
   "file_extension": ".py",
   "mimetype": "text/x-python",
   "name": "python",
   "nbconvert_exporter": "python",
   "pygments_lexer": "ipython3",
   "version": "3.9.7"
  },
  "orig_nbformat": 4
 },
 "nbformat": 4,
 "nbformat_minor": 2
}
