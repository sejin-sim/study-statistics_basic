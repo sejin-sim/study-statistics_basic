{
 "cells": [
  {
   "cell_type": "markdown",
   "metadata": {},
   "source": [
    "\n",
    "# 6장 이산확률분포\n",
    "\n",
    "## 1. 이항분포(binomial distribution)\n",
    "\n",
    "- 베르누이 시행(Bernoulli trial)\n",
    "    \n",
    "    : 표본을 뽑을 때 그 실험의 결과 또는 표본을 뽑는 열과가 상호배타적인 두 가지 사건으로만 나타나는 경우. (다음 시행에 영향 X) 이항분포의 기초가 되며, 아래의 조건을 만족시켜야 한다.\n",
    "    \n",
    "    - 베르누이시행의 조건\n",
    "        1. 상호배타적인 두 사건으로 구분되며, 한 사건은 성공, 다른 사건은 실패로 나타냄\n",
    "        2. 성공의 결과가 나타날 확률 p=P(S), 실패가 나타날 확률 q=P(F)=1-p\n",
    "            \n",
    "            각 시행에서 성공이 나타날 확률 + 실패가 나타날 확률 = p + q = 1\n",
    "            \n",
    "        3. 각 시행은 서로 독립적. 한 시행의 결과는 다음 시행의 결과에 아무런 영향 X\n",
    "- 이항확률변수와 이항확률분포\n",
    "    - 이항 실험 : 여러 번의 베르누이 시행을 할 대 특정 횟수의 성공이 나타날 확률알고 싶은 경우\n",
    "    - 이항확률변수=X : 성공의 횟수 또는 실패의 횟수\n",
    "    - 이항확률분포=이항분포 : 특정한 확률 분포\n",
    "        - 시행 횟수 n 또는 성공확률 p에 따라서 확률분포의 모양이 달라짐\n",
    "- 이항분포의 확률계산\n",
    "    - 이항확률함수의 이용\n",
    "        \n",
    "        $P(X=x) = {}_{n}C_r P^x (1-p)^{n-x}$\n",
    "        \n",
    "        - $x$ = 성공횟수, $n$ = 시행횟수, $p$=성공확률, $1-p=q$ = 실패확률\n",
    "- 이항분포의 형태\n",
    "    - $n$의 크기 = 분포의 범위, $p$의 크기 = 분포의 대칭도\n",
    "    - 이항분포의 모양\n",
    "        1. $p=0.5$, 확률분포는 언제나 대칭을 이룬다\n",
    "        2. $p=0.5$이 아니더라도, 이항실험횟수 $n$이 커지면 대칭에 가까워 진다.\n",
    "- 이항분포의 기댓값과 분산\n",
    "    - 기댓값 $\\mu = E(X) = np$\n",
    "    - 분산 $\\sigma^2 = Var(X) = np(1-p) = npq$\n",
    "    - 표준편차 $\\sigma = \\sqrt{np(1-p)} =  \\sqrt{npq}$\n",
    "\n",
    "## 2. 다항분포(multinomial distribution)\n",
    "\n",
    "- 확률실험의 결과로 k개의 가능한 경우가 발생할 때 나타나는 분포\n",
    "    - $P(X=X_1, X_2 \\cdots , X_k) = \\frac{N!}{n_1 ! n_2! \\cdots n_k!} p_1^{n_1}p_2^{n_2} \\cdots p_k^{n_k}$\n",
    "\n",
    "## 3. 초기하분포(hypergeometric distribution)\n",
    "\n",
    "- 이항분포 : 성립되기 위한 중요 가정은 매 시행마다 성공의 확률은 언제나 일정 (복원 추출)\n",
    "- 초기하분포 : 매 시행마다 성공확률이 일정하다는 조건이 만족되지 않는 경우 (종속성)\n",
    "- 초기하분포의 확률함수\n",
    "    - $P(N_1 중 x_1, N_2 중 x_2) = \\frac{{}_{N_1}C_{x_1} \\cdot {}_{N_2}C_{x_2}}{ {}_{(N_1 + N_2)}C_{(x_1 + x_2)} }$"
   ]
  }
 ],
 "metadata": {
  "interpreter": {
   "hash": "4f3d3d6c5c69fb4fe3df8a42cd3cf8ec30e664976476b35ad609d0469663326d"
  },
  "kernelspec": {
   "display_name": "Python 3.9.7 ('my_env': venv)",
   "language": "python",
   "name": "python3"
  },
  "language_info": {
   "codemirror_mode": {
    "name": "ipython",
    "version": 3
   },
   "file_extension": ".py",
   "mimetype": "text/x-python",
   "name": "python",
   "nbconvert_exporter": "python",
   "pygments_lexer": "ipython3",
   "version": "3.9.7"
  },
  "orig_nbformat": 4
 },
 "nbformat": 4,
 "nbformat_minor": 2
}
