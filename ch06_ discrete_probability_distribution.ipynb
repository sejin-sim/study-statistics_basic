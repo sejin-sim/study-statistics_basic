{
 "cells": [
  {
   "cell_type": "markdown",
   "metadata": {},
   "source": [
    "# 5장 확률분포의 개념\n",
    "\n",
    "## 1. 확률변수와 확률분포\n",
    "\n",
    "- 확률변수의 개념\n",
    "    - 사건(event) : 앞면이라든가 뒷면\n",
    "    - 표본공간(sample space) : 나타날 수 있는 모든 가능한 사건의 집합\n",
    "        - $S = \\{H, T\\}$ = 앞면(H)와 뒷면(T) 두 사건으로 구성된 경우\n",
    "        - $S = \\{1,000, -500\\}$ = 동전던지기 1,000원을 얻거나 500원을 잃는 경우\n",
    "    - 확률변수($X$)\n",
    "        \n",
    "         : 일정한 확률을 가지고 발생하는 사건에 수치를 부여한 것\n",
    "        \n",
    "        - 동전을 던지는 실험에서는 앞면이 나타나는 횟수 = 확률변수\n",
    "        - $P(X=1)=\\frac{1}{2}$, $P(X=0)=\\frac{1}{2}$\n",
    "        - $P(X=1,000)=\\frac{1}{2}$, $P(X=-500)=\\frac{1}{2}$\n",
    "    - 확률분포(Probability distribution)\n",
    "        \n",
    "        : 어떤 확률변수가 취할 수 있는 모든 값들과 이 값들이 나타날 확률을 표시한 것\n",
    "\n",
    "\n",
    "## 2. 이산확률변수와 연속확률변수\n",
    "\n",
    "- 이산확률변수(discrete random variable)\n",
    "    \n",
    "    : 확률변수가 취할 수 있는 값의 수가 유한하거나 무한하더라도 셀 수 있는 확률변수\n",
    "    \n",
    "    - 예시) 동전 1,000개 던질 때 앞면의 수 → 0~1,000사이의 정수로 제한 됨\n",
    "- 연속확률변수(continous random variable)\n",
    "    \n",
    "    : 확률변수가 취할 수 있는 값이 일정한 구간 내의 실수로서 그 수가 무한한 확률변수\n",
    "    \n",
    "    - 예시) 체중, 온도, 키 → 160~170cm 사이의 수많은 측정치\n",
    "- 이산확률분포 : 이산확률변수의 확률분포 (대표 : 이항분포)\n",
    "- 연속확률분포 : 연속확률변수의 확률분포 (대표 : 정규분포)\n",
    "\n",
    "## 3. 확률함수와 확률밀도함수\n",
    "\n",
    "- 확률함수(probability function) : 이산확률변수의 확률분포\n",
    "    \n",
    "    : 확률변수가 취할 수 있는 수치에 대해 그 수치에 대한 확률 값이 얼마 인지를 알려주는 함수\n",
    "    \n",
    "    - $P(X_i) = \\frac{1}{2}$\n",
    "    - 2개의 조건\n",
    "        - 이산확률분포에서 특정한 값 $X_i$가 발생할 확률은 $0 ≤ P(X_i) ≤ 1$\n",
    "        - $\\sum P(X_i) = 1$\n",
    "- 확률밀도함수(probability density function)\n",
    "    \n",
    "    : 연속확률분포의 양상을 나타내는 곡선을 식으로 표현한 것\n",
    "    \n",
    "    - $P(15.4≤X≤16) = 0.3$ : 저녁 기온이 15.4~16도일 확률이 30%인 경우\n",
    "    - 4개의 조건\n",
    "        - 연속확률분포에서 어느 한 특정 값 $X_i$가 발생할 확률 $P(X_i) = 0$\n",
    "        - 연속확률분포에서의 확률은 어떤 특정한 두 값, 즉 일정구간 사이의 값을 취할 확률 즉, $P(a≤X≤b)$는 구간 $[a,b]$ 사이의 확률밀도 함수 $f(X)$와 $X$축 사이의 면적\n",
    "        - 확률밀도함수는 언제나 음수가 아닌(=비음) 값을 가짐. 즉 $f(X) ≥0$\n",
    "        - 확률밀도함수 아래에 있는 전체의 면적은 언제나 1이다. 즉 $P(-\\infin ≤X≤\\infin) = 1$\n",
    "\n",
    "## 4. 확률분포의 기댓값과 분산\n",
    "\n",
    "- 기대값\n",
    "    \n",
    "    : 확률변수가 취할 수 있는 모든 값들의 평균\n",
    "    \n",
    "    - $E(X) = \\mu_{\\text{x}} = \\sum X_i \\cdot P(X_i)$\n",
    "    - 특성(=연산)\n",
    "        - $E(aX) = a \\cdot E(X)$\n",
    "        - $E(X + b) = E(X) + b 또는 E(X-b) = E(X) - b$\n",
    "        - $E(aX \\pm b) = a \\cdot E(X) \\pm b$\n",
    "- 분산의 계산\n",
    "    - $Var(X) = \\sigma^2_\\text{x} = \\sum [X_i - E(X)]^2 \\cdot P(X_i) = E[(X-E(X))^2] = E(X^2) - [E(X)]^2$\n",
    "- 표준편차의 계산\n",
    "    - $\\sigma_\\text{x} = \\sqrt{\\sum [X_i - E(X)]^2 \\cdot P(X_i)}$\n",
    "- 분산과 표준편차의 특성(=연산)\n",
    "    - $Var(X + b) = Var(X), \\sigma(X+b) = \\sigma(X)$\n",
    "        - 확률변수에 상수를 더하는 것은 분포의 분산도에 아무런 영향 X\n",
    "    - $Var(aX) = a^2Var(X), \\sigma(aX) = a\\sigma(X)$\n",
    "        - 확률변수에 일정한 상수 $a$를 곱한 확률변수의 분산은 본래의 확률변수의 분산에 $a^2$를 곱한 것과 같다.\n",
    "    - $Var(aX + b) = a^2 Var(X), \\sigma(aX+b) = a \\sigma(X)$\n",
    "\n",
    "## 5. 두 확률변수의 결합분포\n",
    "\n",
    "- 결합확률분포 : 두 개 이상의 확률변수가 관련된 확률분포\n",
    "    - $P(X=3\\%, Y=10\\%) = 0.2$\n",
    "- 주변확률분포 : X와 Y의 결합분포에서 X또는 Y의 어느 하나만의 확률분포\n",
    "    - $X=3\\%$의 주변확률분포 $= P(X=3\\%, Y=5\\%) +  P(X=3\\%, Y=10\\%) +  P(X=3\\%, Y=20\\%)$\n",
    "    - X와 Y의 기댓값을 구하는데 이용 됨\n",
    "- 공분산(Covariance)\n",
    "    \n",
    "    : 두 확률의 분포가 결합될 때 그 결합확률분포의 분산을 측정하는 것\n",
    "    \n",
    "    - $Cov(X,Y) = E[(X-E(X))(Y-E(Y))] = E(XY) - E(X) \\cdot E(Y)$\n",
    "    - $E(XY) = \\sum X_i Y_i \\cdot P(X_i, Y_i)$"
   ]
  },
  {
   "cell_type": "markdown",
   "metadata": {},
   "source": [
    "# 연습문제\n"
   ]
  },
  {
   "cell_type": "code",
   "execution_count": 1,
   "metadata": {},
   "outputs": [],
   "source": [
    "import pandas as pd\n",
    "import numpy as np\n",
    "import seaborn as sns\n",
    "import matplotlib.pyplot as plt\n",
    "from matplotlib import font_manager, rc\n",
    "\n",
    "# Plot 그릴 때 한국어 깨짐 방지\n",
    "font_path = \"C:/Windows/Fonts/gulim.ttc\"\n",
    "font = font_manager.FontProperties(fname=font_path).get_name()\n",
    "rc('font', family=font)\n",
    "rc('font', size=11)\n"
   ]
  },
  {
   "cell_type": "markdown",
   "metadata": {},
   "source": [
    "- 동전을 세번 던질 때 앞면이 나올 확률변수의 확률분포표를 참고하여 기댓값, 분산, 표준편차를 구하여라"
   ]
  },
  {
   "cell_type": "code",
   "execution_count": 9,
   "metadata": {},
   "outputs": [
    {
     "data": {
      "text/html": [
       "<div>\n",
       "<style scoped>\n",
       "    .dataframe tbody tr th:only-of-type {\n",
       "        vertical-align: middle;\n",
       "    }\n",
       "\n",
       "    .dataframe tbody tr th {\n",
       "        vertical-align: top;\n",
       "    }\n",
       "\n",
       "    .dataframe thead th {\n",
       "        text-align: right;\n",
       "    }\n",
       "</style>\n",
       "<table border=\"1\" class=\"dataframe\">\n",
       "  <thead>\n",
       "    <tr style=\"text-align: right;\">\n",
       "      <th></th>\n",
       "      <th>X</th>\n",
       "      <th>P(X)</th>\n",
       "      <th>E(X)</th>\n",
       "      <th>[X-E(X)]^2</th>\n",
       "      <th>[X-E(X)]^2 x P(X)</th>\n",
       "    </tr>\n",
       "  </thead>\n",
       "  <tbody>\n",
       "    <tr>\n",
       "      <th>0</th>\n",
       "      <td>0.0</td>\n",
       "      <td>0.125</td>\n",
       "      <td>0.000</td>\n",
       "      <td>2.25</td>\n",
       "      <td>0.28125</td>\n",
       "    </tr>\n",
       "    <tr>\n",
       "      <th>1</th>\n",
       "      <td>1.0</td>\n",
       "      <td>0.375</td>\n",
       "      <td>0.375</td>\n",
       "      <td>0.25</td>\n",
       "      <td>0.09375</td>\n",
       "    </tr>\n",
       "    <tr>\n",
       "      <th>2</th>\n",
       "      <td>2.0</td>\n",
       "      <td>0.375</td>\n",
       "      <td>0.750</td>\n",
       "      <td>0.25</td>\n",
       "      <td>0.09375</td>\n",
       "    </tr>\n",
       "    <tr>\n",
       "      <th>3</th>\n",
       "      <td>3.0</td>\n",
       "      <td>0.125</td>\n",
       "      <td>0.375</td>\n",
       "      <td>2.25</td>\n",
       "      <td>0.28125</td>\n",
       "    </tr>\n",
       "  </tbody>\n",
       "</table>\n",
       "</div>"
      ],
      "text/plain": [
       "     X   P(X)   E(X)  [X-E(X)]^2  [X-E(X)]^2 x P(X)\n",
       "0  0.0  0.125  0.000        2.25            0.28125\n",
       "1  1.0  0.375  0.375        0.25            0.09375\n",
       "2  2.0  0.375  0.750        0.25            0.09375\n",
       "3  3.0  0.125  0.375        2.25            0.28125"
      ]
     },
     "metadata": {},
     "output_type": "display_data"
    },
    {
     "name": "stdout",
     "output_type": "stream",
     "text": [
      "E(X) =  1.5\n",
      "Var(X) =  0.75\n",
      "sigma_X =  0.8660254037844386\n"
     ]
    }
   ],
   "source": [
    "data = [[0,1,2,3],[1/8,3/8,3/8,1/8]]\n",
    "coin = pd.DataFrame(data=np.array(data).T, columns=['X', 'P(X)'])\n",
    "coin['E(X)'] = coin['X'] * coin['P(X)']\n",
    "coin['[X-E(X)]^2'] = (coin['X'] - coin['E(X)'].sum())**2\n",
    "coin['[X-E(X)]^2 x P(X)'] = coin['[X-E(X)]^2'] * coin['P(X)']\n",
    "coin_Var = coin['[X-E(X)]^2 x P(X)'].sum()\n",
    "display(coin)\n",
    "print('E(X) = ', coin['E(X)'].sum())\n",
    "print('Var(X) = ', coin_Var)\n",
    "print('sigma_X = ', np.sqrt(coin_Var))"
   ]
  },
  {
   "cell_type": "markdown",
   "metadata": {},
   "source": [
    "- 포장용 원두커피의 용량 비율 표를 참고하여 기댓값, 분산, 표준편차를 구하라"
   ]
  },
  {
   "cell_type": "code",
   "execution_count": 10,
   "metadata": {},
   "outputs": [
    {
     "data": {
      "text/html": [
       "<div>\n",
       "<style scoped>\n",
       "    .dataframe tbody tr th:only-of-type {\n",
       "        vertical-align: middle;\n",
       "    }\n",
       "\n",
       "    .dataframe tbody tr th {\n",
       "        vertical-align: top;\n",
       "    }\n",
       "\n",
       "    .dataframe thead th {\n",
       "        text-align: right;\n",
       "    }\n",
       "</style>\n",
       "<table border=\"1\" class=\"dataframe\">\n",
       "  <thead>\n",
       "    <tr style=\"text-align: right;\">\n",
       "      <th></th>\n",
       "      <th>X</th>\n",
       "      <th>P(X)</th>\n",
       "      <th>E(X)</th>\n",
       "      <th>[X-E(X)]^2</th>\n",
       "      <th>[X-E(X)]^2 x P(X)</th>\n",
       "    </tr>\n",
       "  </thead>\n",
       "  <tbody>\n",
       "    <tr>\n",
       "      <th>0</th>\n",
       "      <td>340.0</td>\n",
       "      <td>0.2</td>\n",
       "      <td>68.0</td>\n",
       "      <td>400.0</td>\n",
       "      <td>80.0</td>\n",
       "    </tr>\n",
       "    <tr>\n",
       "      <th>1</th>\n",
       "      <td>360.0</td>\n",
       "      <td>0.6</td>\n",
       "      <td>216.0</td>\n",
       "      <td>0.0</td>\n",
       "      <td>0.0</td>\n",
       "    </tr>\n",
       "    <tr>\n",
       "      <th>2</th>\n",
       "      <td>380.0</td>\n",
       "      <td>0.2</td>\n",
       "      <td>76.0</td>\n",
       "      <td>400.0</td>\n",
       "      <td>80.0</td>\n",
       "    </tr>\n",
       "  </tbody>\n",
       "</table>\n",
       "</div>"
      ],
      "text/plain": [
       "       X  P(X)   E(X)  [X-E(X)]^2  [X-E(X)]^2 x P(X)\n",
       "0  340.0   0.2   68.0       400.0               80.0\n",
       "1  360.0   0.6  216.0         0.0                0.0\n",
       "2  380.0   0.2   76.0       400.0               80.0"
      ]
     },
     "metadata": {},
     "output_type": "display_data"
    },
    {
     "name": "stdout",
     "output_type": "stream",
     "text": [
      "E(X) =  360.0\n",
      "Var(X) =  160.0\n",
      "sigma_X =  12.649110640673518\n"
     ]
    }
   ],
   "source": [
    "data = [[340,360,380],[0.2,0.6,0.2]]\n",
    "coffee = pd.DataFrame(data=np.array(data).T, columns=['X', 'P(X)'])\n",
    "coffee['E(X)'] = coffee['X'] * coffee['P(X)']\n",
    "coffee['[X-E(X)]^2'] = (coffee['X'] - coffee['E(X)'].sum())**2\n",
    "coffee['[X-E(X)]^2 x P(X)'] = coffee['[X-E(X)]^2'] * coffee['P(X)']\n",
    "coffee_Var = coffee['[X-E(X)]^2 x P(X)'].sum()\n",
    "display(coffee)\n",
    "print('E(X) = ', coffee['E(X)'].sum())\n",
    "print('Var(X) = ', coffee_Var)\n",
    "print('sigma_X = ', np.sqrt(coffee_Var))"
   ]
  },
  {
   "cell_type": "markdown",
   "metadata": {},
   "source": [
    "- E(X) = 50, $\\sigma_X$ = 30 인 변수에서 2배를 하여 새로운 확률변수를 만들 때 기댓값과 표준편차는?"
   ]
  },
  {
   "cell_type": "code",
   "execution_count": 12,
   "metadata": {},
   "outputs": [
    {
     "name": "stdout",
     "output_type": "stream",
     "text": [
      "E(2X) = 2E(X) = 100\n",
      "sigma_2x =2sigma_x= 60\n"
     ]
    }
   ],
   "source": [
    "E_X = 50\n",
    "sigma_X = 30\n",
    "print('E(2X) = 2E(X) =', 2*E_X)\n",
    "print('sigma_2x =2sigma_x=', 2*sigma_X)"
   ]
  }
 ],
 "metadata": {
  "interpreter": {
   "hash": "4f3d3d6c5c69fb4fe3df8a42cd3cf8ec30e664976476b35ad609d0469663326d"
  },
  "kernelspec": {
   "display_name": "Python 3.9.7 ('my_env': venv)",
   "language": "python",
   "name": "python3"
  },
  "language_info": {
   "codemirror_mode": {
    "name": "ipython",
    "version": 3
   },
   "file_extension": ".py",
   "mimetype": "text/x-python",
   "name": "python",
   "nbconvert_exporter": "python",
   "pygments_lexer": "ipython3",
   "version": "3.9.7"
  },
  "orig_nbformat": 4
 },
 "nbformat": 4,
 "nbformat_minor": 2
}
