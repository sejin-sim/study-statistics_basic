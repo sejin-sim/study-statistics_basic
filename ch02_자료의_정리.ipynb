{
 "cells": [
  {
   "cell_type": "markdown",
   "metadata": {},
   "source": [
    "\n",
    "# 2장 자료의 정리\n",
    "\n",
    "1. 변수와 자료\n",
    "- 변수와 자료의 종류\n",
    "    - 양적 변수 : 수치로 나타낼 수 있는 것들\n",
    "        - 명목변수 : 특성을 분류하기 위한 숫자로 단순한 구분기호\n",
    "        - 서열변수 : 측정 대상간의 순서를 매기기 위함 (서열, 석차)\n",
    "        - 등간변수 : 측정 대상의 순서뿐만 순서 사이의 간격(온도, IQ)\n",
    "        - 비율변수 : 측정자료 간 비율 계산이 가능한 변수 (연령, 무게)\n",
    "        - 이외 분류\n",
    "            - 이산적 변수 : 정숫값을 취할 수 있는 변수. 측정치 사이에 간격 有\n",
    "            - 연속적 변수 : 모든 실숫값을 취할 수 있는 변수. 수치사이에 틈 X\n",
    "    - 질적 변수 : 속성을 수치로 나타낼 수 없는 것들\n",
    "        - 질적 자료를 숫자로 나타낼 수 있음 ex) 남자 : 0, 여자 : 1\n",
    "\n",
    "2. 도수분포표\n",
    "- 자료의 특성을 요약하고 정리하는 기술적 통계학에서 가장 기본적인 역할\n",
    "- 질적 자료의 정리\n",
    "    - 상대적 빈도 : 한 범주에 속하는 빈도 / 전체관찰수\n",
    "- 양적 자료의 정리\n",
    "    - 이산적 자료\n",
    "        - 누적빈도 : 어떤 등급에 해당되는 빈도를 포함해서 그 이하 또는 그 이상에 있는 모든 빈도를 합한 것이다.\n",
    "    - 연속적 자료\n",
    "        - 등급의 구간 = 자료의 최대값 - 자료의 최수값 / 등급의 수\n",
    "\n",
    "3. 도표에 의한 도수분포표\n",
    "    - 질적 자료의 도표 : 막대 그래프\n",
    "    - 양적 자료의 도표\n",
    "        - 이산적 자료의 도표 : 막대 그래프\n",
    "        - 연속적 자료의 도표 : 히스토그램, 꺽은 선 그림표\n"
   ]
  },
  {
   "cell_type": "markdown",
   "metadata": {},
   "source": [
    "# 연습문제"
   ]
  },
  {
   "cell_type": "code",
   "execution_count": 74,
   "metadata": {},
   "outputs": [],
   "source": [
    "import pandas as pd\n",
    "import numpy as np\n",
    "import seaborn as sns\n",
    "import matplotlib.pyplot as plt\n",
    "from matplotlib import font_manager, rc\n",
    "\n",
    "# Plot 그릴 때 한국어 깨짐 방지\n",
    "font_path = \"C:/Windows/Fonts/gulim.ttc\"\n",
    "font = font_manager.FontProperties(fname=font_path).get_name()\n",
    "rc('font', family=font)\n",
    "rc('font', size=11)\n"
   ]
  },
  {
   "cell_type": "markdown",
   "metadata": {},
   "source": [
    "- 중학생 40명의 키를 측정한 결과 도수분포표를 작성"
   ]
  },
  {
   "cell_type": "code",
   "execution_count": 14,
   "metadata": {},
   "outputs": [
    {
     "data": {
      "text/plain": [
       "(177, 120)"
      ]
     },
     "execution_count": 14,
     "metadata": {},
     "output_type": "execute_result"
    }
   ],
   "source": [
    "student = [138,164,150,132,144,125,149,157,\n",
    "            146,158,140,147,136,148,152,144,\n",
    "            168,126,138,177,163,120,154,165,\n",
    "            146,173,142,147,135,153,140,135,\n",
    "            161,145,135,142,150,156,145,128]\n",
    "\n",
    "level_num = (max(student) - min(student)) / 6\n",
    "level_num = round(level_num)\n",
    "max(student), min(student)"
   ]
  },
  {
   "cell_type": "code",
   "execution_count": 64,
   "metadata": {},
   "outputs": [
    {
     "data": {
      "text/html": [
       "<div>\n",
       "<style scoped>\n",
       "    .dataframe tbody tr th:only-of-type {\n",
       "        vertical-align: middle;\n",
       "    }\n",
       "\n",
       "    .dataframe tbody tr th {\n",
       "        vertical-align: top;\n",
       "    }\n",
       "\n",
       "    .dataframe thead th {\n",
       "        text-align: right;\n",
       "    }\n",
       "</style>\n",
       "<table border=\"1\" class=\"dataframe\">\n",
       "  <thead>\n",
       "    <tr style=\"text-align: right;\">\n",
       "      <th></th>\n",
       "      <th>level</th>\n",
       "      <th>height</th>\n",
       "    </tr>\n",
       "  </thead>\n",
       "  <tbody>\n",
       "    <tr>\n",
       "      <th>0</th>\n",
       "      <td>120이상 130미만</td>\n",
       "      <td>4</td>\n",
       "    </tr>\n",
       "    <tr>\n",
       "      <th>1</th>\n",
       "      <td>130이상 140미만</td>\n",
       "      <td>7</td>\n",
       "    </tr>\n",
       "    <tr>\n",
       "      <th>2</th>\n",
       "      <td>140이상 150미만</td>\n",
       "      <td>14</td>\n",
       "    </tr>\n",
       "    <tr>\n",
       "      <th>3</th>\n",
       "      <td>150이상 160미만</td>\n",
       "      <td>8</td>\n",
       "    </tr>\n",
       "    <tr>\n",
       "      <th>4</th>\n",
       "      <td>160이상 170미만</td>\n",
       "      <td>5</td>\n",
       "    </tr>\n",
       "    <tr>\n",
       "      <th>5</th>\n",
       "      <td>170이상 180미만</td>\n",
       "      <td>2</td>\n",
       "    </tr>\n",
       "  </tbody>\n",
       "</table>\n",
       "</div>"
      ],
      "text/plain": [
       "         level  height\n",
       "0  120이상 130미만       4\n",
       "1  130이상 140미만       7\n",
       "2  140이상 150미만      14\n",
       "3  150이상 160미만       8\n",
       "4  160이상 170미만       5\n",
       "5  170이상 180미만       2"
      ]
     },
     "execution_count": 64,
     "metadata": {},
     "output_type": "execute_result"
    }
   ],
   "source": [
    "st_table = pd.DataFrame(np.array(student).T, columns=['height'])\n",
    "\n",
    "bins = list(range(120, 181, 10))\n",
    "bins_label = [str(x)+\"이상 \"+str(x+10)+\"미만\" for x in bins]\n",
    "st_table[\"level\"] = pd.cut(st_table[\"height\"], bins, right=False, labels=bins_label[:-1])\n",
    "st_dosu = pd.DataFrame(st_table.groupby('level').count()).reset_index()\n",
    "st_dosu"
   ]
  },
  {
   "cell_type": "code",
   "execution_count": 65,
   "metadata": {},
   "outputs": [
    {
     "data": {
      "text/html": [
       "<div>\n",
       "<style scoped>\n",
       "    .dataframe tbody tr th:only-of-type {\n",
       "        vertical-align: middle;\n",
       "    }\n",
       "\n",
       "    .dataframe tbody tr th {\n",
       "        vertical-align: top;\n",
       "    }\n",
       "\n",
       "    .dataframe thead th {\n",
       "        text-align: right;\n",
       "    }\n",
       "</style>\n",
       "<table border=\"1\" class=\"dataframe\">\n",
       "  <thead>\n",
       "    <tr style=\"text-align: right;\">\n",
       "      <th></th>\n",
       "      <th>level</th>\n",
       "      <th>height</th>\n",
       "      <th>ratio</th>\n",
       "      <th>Cumulative %</th>\n",
       "    </tr>\n",
       "  </thead>\n",
       "  <tbody>\n",
       "    <tr>\n",
       "      <th>0</th>\n",
       "      <td>120이상 130미만</td>\n",
       "      <td>4</td>\n",
       "      <td>0.100</td>\n",
       "      <td>0.100</td>\n",
       "    </tr>\n",
       "    <tr>\n",
       "      <th>1</th>\n",
       "      <td>130이상 140미만</td>\n",
       "      <td>7</td>\n",
       "      <td>0.175</td>\n",
       "      <td>0.275</td>\n",
       "    </tr>\n",
       "    <tr>\n",
       "      <th>2</th>\n",
       "      <td>140이상 150미만</td>\n",
       "      <td>14</td>\n",
       "      <td>0.350</td>\n",
       "      <td>0.625</td>\n",
       "    </tr>\n",
       "    <tr>\n",
       "      <th>3</th>\n",
       "      <td>150이상 160미만</td>\n",
       "      <td>8</td>\n",
       "      <td>0.200</td>\n",
       "      <td>0.825</td>\n",
       "    </tr>\n",
       "    <tr>\n",
       "      <th>4</th>\n",
       "      <td>160이상 170미만</td>\n",
       "      <td>5</td>\n",
       "      <td>0.125</td>\n",
       "      <td>0.950</td>\n",
       "    </tr>\n",
       "    <tr>\n",
       "      <th>5</th>\n",
       "      <td>170이상 180미만</td>\n",
       "      <td>2</td>\n",
       "      <td>0.050</td>\n",
       "      <td>1.000</td>\n",
       "    </tr>\n",
       "  </tbody>\n",
       "</table>\n",
       "</div>"
      ],
      "text/plain": [
       "         level  height  ratio  Cumulative %\n",
       "0  120이상 130미만       4  0.100         0.100\n",
       "1  130이상 140미만       7  0.175         0.275\n",
       "2  140이상 150미만      14  0.350         0.625\n",
       "3  150이상 160미만       8  0.200         0.825\n",
       "4  160이상 170미만       5  0.125         0.950\n",
       "5  170이상 180미만       2  0.050         1.000"
      ]
     },
     "execution_count": 65,
     "metadata": {},
     "output_type": "execute_result"
    }
   ],
   "source": [
    "st_dosu['ratio'] = st_dosu['height'] / st_dosu['height'].sum()\n",
    "st_dosu['Cumulative %'] = np.cumsum(st_dosu['ratio'])\n",
    "st_dosu\n"
   ]
  },
  {
   "cell_type": "code",
   "execution_count": 82,
   "metadata": {},
   "outputs": [
    {
     "data": {
      "image/png": "[encoded data removed]",
      "text/plain": [
       "<Figure size 792x288 with 1 Axes>"
      ]
     },
     "metadata": {
      "needs_background": "light"
     },
     "output_type": "display_data"
    },
    {
     "data": {
      "image/png": "[encoded data removed]",
      "text/plain": [
       "<Figure size 792x288 with 1 Axes>"
      ]
     },
     "metadata": {
      "needs_background": "light"
     },
     "output_type": "display_data"
    }
   ],
   "source": [
    "plt.figure(figsize=(11,4))\n",
    "sns.barplot(x=st_dosu['level'], y=st_dosu['Cumulative %'])\n",
    "plt.show()\n",
    "\n",
    "plt.figure(figsize=(11,4))\n",
    "sns.lineplot(x=st_dosu['level'], y=st_dosu['Cumulative %'],  marker='o')\n",
    "plt.show()"
   ]
  },
  {
   "cell_type": "markdown",
   "metadata": {},
   "source": [
    "- 금은방의 30개 금반지 순도 조사"
   ]
  },
  {
   "cell_type": "code",
   "execution_count": 117,
   "metadata": {},
   "outputs": [
    {
     "data": {
      "text/plain": [
       "(99.99, 99.29)"
      ]
     },
     "execution_count": 117,
     "metadata": {},
     "output_type": "execute_result"
    }
   ],
   "source": [
    "ring = [99.55,99.43,99.6,99.38,99.57,99.80,99.61,99.94,99.79,\n",
    "        99.51,99.29,99.57,99.83,99.80,99.53,99.89,99.84,99.64,\n",
    "        99.68,99.40,99.49,99.54,99.99,99.70,99.68,99.59,99.73,\n",
    "        99.65,99.71,99.64]\n",
    "\n",
    "level_num = (max(ring) - min(ring)) / 5\n",
    "level_num = 0.15\n",
    "max(ring), min(ring)"
   ]
  },
  {
   "cell_type": "code",
   "execution_count": 142,
   "metadata": {},
   "outputs": [
    {
     "data": {
      "text/html": [
       "<div>\n",
       "<style scoped>\n",
       "    .dataframe tbody tr th:only-of-type {\n",
       "        vertical-align: middle;\n",
       "    }\n",
       "\n",
       "    .dataframe tbody tr th {\n",
       "        vertical-align: top;\n",
       "    }\n",
       "\n",
       "    .dataframe thead th {\n",
       "        text-align: right;\n",
       "    }\n",
       "</style>\n",
       "<table border=\"1\" class=\"dataframe\">\n",
       "  <thead>\n",
       "    <tr style=\"text-align: right;\">\n",
       "      <th></th>\n",
       "      <th>level</th>\n",
       "      <th>sundo</th>\n",
       "    </tr>\n",
       "  </thead>\n",
       "  <tbody>\n",
       "    <tr>\n",
       "      <th>0</th>\n",
       "      <td>99.25이상 99.40미만</td>\n",
       "      <td>2</td>\n",
       "    </tr>\n",
       "    <tr>\n",
       "      <th>1</th>\n",
       "      <td>99.40이상 99.55미만</td>\n",
       "      <td>7</td>\n",
       "    </tr>\n",
       "    <tr>\n",
       "      <th>2</th>\n",
       "      <td>99.55이상 99.70미만</td>\n",
       "      <td>11</td>\n",
       "    </tr>\n",
       "    <tr>\n",
       "      <th>3</th>\n",
       "      <td>99.70이상 99.85미만</td>\n",
       "      <td>7</td>\n",
       "    </tr>\n",
       "    <tr>\n",
       "      <th>4</th>\n",
       "      <td>99.85이상 100.00미만</td>\n",
       "      <td>3</td>\n",
       "    </tr>\n",
       "  </tbody>\n",
       "</table>\n",
       "</div>"
      ],
      "text/plain": [
       "              level  sundo\n",
       "0   99.25이상 99.40미만      2\n",
       "1   99.40이상 99.55미만      7\n",
       "2   99.55이상 99.70미만     11\n",
       "3   99.70이상 99.85미만      7\n",
       "4  99.85이상 100.00미만      3"
      ]
     },
     "execution_count": 142,
     "metadata": {},
     "output_type": "execute_result"
    }
   ],
   "source": [
    "ring_table = pd.DataFrame(np.array(ring).T, columns=['sundo'])\n",
    "\n",
    "bins = np.arange(99.25, 100.1, 0.15)\n",
    "bins_label = [f'{x:.2f}'+\"이상 \"+f'{x+0.15:.2f}'+\"미만\" for x in bins]\n",
    "\n",
    "ring_table[\"level\"] = pd.cut(ring_table[\"sundo\"], bins, right=False, labels=bins_label[:-1])\n",
    "ring_dosu = pd.DataFrame(ring_table.groupby('level').count()).reset_index()\n",
    "ring_dosu"
   ]
  },
  {
   "cell_type": "code",
   "execution_count": 143,
   "metadata": {},
   "outputs": [
    {
     "data": {
      "text/html": [
       "<div>\n",
       "<style scoped>\n",
       "    .dataframe tbody tr th:only-of-type {\n",
       "        vertical-align: middle;\n",
       "    }\n",
       "\n",
       "    .dataframe tbody tr th {\n",
       "        vertical-align: top;\n",
       "    }\n",
       "\n",
       "    .dataframe thead th {\n",
       "        text-align: right;\n",
       "    }\n",
       "</style>\n",
       "<table border=\"1\" class=\"dataframe\">\n",
       "  <thead>\n",
       "    <tr style=\"text-align: right;\">\n",
       "      <th></th>\n",
       "      <th>level</th>\n",
       "      <th>sundo</th>\n",
       "      <th>ratio</th>\n",
       "      <th>Cumulative %</th>\n",
       "    </tr>\n",
       "  </thead>\n",
       "  <tbody>\n",
       "    <tr>\n",
       "      <th>0</th>\n",
       "      <td>99.25이상 99.40미만</td>\n",
       "      <td>2</td>\n",
       "      <td>0.066667</td>\n",
       "      <td>0.066667</td>\n",
       "    </tr>\n",
       "    <tr>\n",
       "      <th>1</th>\n",
       "      <td>99.40이상 99.55미만</td>\n",
       "      <td>7</td>\n",
       "      <td>0.233333</td>\n",
       "      <td>0.300000</td>\n",
       "    </tr>\n",
       "    <tr>\n",
       "      <th>2</th>\n",
       "      <td>99.55이상 99.70미만</td>\n",
       "      <td>11</td>\n",
       "      <td>0.366667</td>\n",
       "      <td>0.666667</td>\n",
       "    </tr>\n",
       "    <tr>\n",
       "      <th>3</th>\n",
       "      <td>99.70이상 99.85미만</td>\n",
       "      <td>7</td>\n",
       "      <td>0.233333</td>\n",
       "      <td>0.900000</td>\n",
       "    </tr>\n",
       "    <tr>\n",
       "      <th>4</th>\n",
       "      <td>99.85이상 100.00미만</td>\n",
       "      <td>3</td>\n",
       "      <td>0.100000</td>\n",
       "      <td>1.000000</td>\n",
       "    </tr>\n",
       "  </tbody>\n",
       "</table>\n",
       "</div>"
      ],
      "text/plain": [
       "              level  sundo     ratio  Cumulative %\n",
       "0   99.25이상 99.40미만      2  0.066667      0.066667\n",
       "1   99.40이상 99.55미만      7  0.233333      0.300000\n",
       "2   99.55이상 99.70미만     11  0.366667      0.666667\n",
       "3   99.70이상 99.85미만      7  0.233333      0.900000\n",
       "4  99.85이상 100.00미만      3  0.100000      1.000000"
      ]
     },
     "execution_count": 143,
     "metadata": {},
     "output_type": "execute_result"
    }
   ],
   "source": [
    "ring_dosu['ratio'] = ring_dosu['sundo'] / ring_dosu['sundo'].sum()\n",
    "ring_dosu['Cumulative %'] = np.cumsum(ring_dosu['ratio'])\n",
    "ring_dosu"
   ]
  },
  {
   "cell_type": "markdown",
   "metadata": {},
   "source": [
    "- 어느 도시의 낮 최고기온"
   ]
  },
  {
   "cell_type": "code",
   "execution_count": 148,
   "metadata": {},
   "outputs": [
    {
     "data": {
      "text/plain": [
       "(32.1, 11)"
      ]
     },
     "execution_count": 148,
     "metadata": {},
     "output_type": "execute_result"
    }
   ],
   "source": [
    "temper = [15.2,11,16.8,23.2,14.3,21.9,22.4,20.5,15,\n",
    "        17,12.8,21,27.7,28,18.8,16.4,14.9,20,23.5,\n",
    "        23.9,24,13.2,13.6,24.1,25.9,30.8,26.3,\n",
    "        32.1,29.2,31.5,28.5]\n",
    "\n",
    "level_num = (max(temper) - min(temper)) / 5\n",
    "level_num = 5\n",
    "max(temper), min(temper)"
   ]
  },
  {
   "cell_type": "code",
   "execution_count": 158,
   "metadata": {},
   "outputs": [
    {
     "data": {
      "text/html": [
       "<div>\n",
       "<style scoped>\n",
       "    .dataframe tbody tr th:only-of-type {\n",
       "        vertical-align: middle;\n",
       "    }\n",
       "\n",
       "    .dataframe tbody tr th {\n",
       "        vertical-align: top;\n",
       "    }\n",
       "\n",
       "    .dataframe thead th {\n",
       "        text-align: right;\n",
       "    }\n",
       "</style>\n",
       "<table border=\"1\" class=\"dataframe\">\n",
       "  <thead>\n",
       "    <tr style=\"text-align: right;\">\n",
       "      <th></th>\n",
       "      <th>level</th>\n",
       "      <th>do</th>\n",
       "    </tr>\n",
       "  </thead>\n",
       "  <tbody>\n",
       "    <tr>\n",
       "      <th>0</th>\n",
       "      <td>9.50이상 14.50미만</td>\n",
       "      <td>5</td>\n",
       "    </tr>\n",
       "    <tr>\n",
       "      <th>1</th>\n",
       "      <td>14.50이상 19.50미만</td>\n",
       "      <td>7</td>\n",
       "    </tr>\n",
       "    <tr>\n",
       "      <th>2</th>\n",
       "      <td>19.50이상 24.50미만</td>\n",
       "      <td>10</td>\n",
       "    </tr>\n",
       "    <tr>\n",
       "      <th>3</th>\n",
       "      <td>24.50이상 29.50미만</td>\n",
       "      <td>6</td>\n",
       "    </tr>\n",
       "    <tr>\n",
       "      <th>4</th>\n",
       "      <td>29.50이상 34.50미만</td>\n",
       "      <td>3</td>\n",
       "    </tr>\n",
       "  </tbody>\n",
       "</table>\n",
       "</div>"
      ],
      "text/plain": [
       "             level  do\n",
       "0   9.50이상 14.50미만   5\n",
       "1  14.50이상 19.50미만   7\n",
       "2  19.50이상 24.50미만  10\n",
       "3  24.50이상 29.50미만   6\n",
       "4  29.50이상 34.50미만   3"
      ]
     },
     "execution_count": 158,
     "metadata": {},
     "output_type": "execute_result"
    }
   ],
   "source": [
    "temp_table = pd.DataFrame(np.array(temper).T, columns=['do'])\n",
    "\n",
    "bins = np.arange(9.5, 34.6, 5)\n",
    "bins_label = [f'{x:.2f}'+\"이상 \"+f'{x+5:.2f}'+\"미만\" for x in bins]\n",
    "\n",
    "temp_table[\"level\"] = pd.cut(temp_table[\"do\"], bins, right=False, labels=bins_label[:-1])\n",
    "temp_dosu = pd.DataFrame(temp_table.groupby('level').count()).reset_index()\n",
    "temp_dosu"
   ]
  },
  {
   "cell_type": "code",
   "execution_count": 159,
   "metadata": {},
   "outputs": [
    {
     "data": {
      "text/html": [
       "<div>\n",
       "<style scoped>\n",
       "    .dataframe tbody tr th:only-of-type {\n",
       "        vertical-align: middle;\n",
       "    }\n",
       "\n",
       "    .dataframe tbody tr th {\n",
       "        vertical-align: top;\n",
       "    }\n",
       "\n",
       "    .dataframe thead th {\n",
       "        text-align: right;\n",
       "    }\n",
       "</style>\n",
       "<table border=\"1\" class=\"dataframe\">\n",
       "  <thead>\n",
       "    <tr style=\"text-align: right;\">\n",
       "      <th></th>\n",
       "      <th>level</th>\n",
       "      <th>do</th>\n",
       "      <th>ratio</th>\n",
       "      <th>Cumulative %</th>\n",
       "    </tr>\n",
       "  </thead>\n",
       "  <tbody>\n",
       "    <tr>\n",
       "      <th>0</th>\n",
       "      <td>9.50이상 14.50미만</td>\n",
       "      <td>5</td>\n",
       "      <td>0.161290</td>\n",
       "      <td>0.161290</td>\n",
       "    </tr>\n",
       "    <tr>\n",
       "      <th>1</th>\n",
       "      <td>14.50이상 19.50미만</td>\n",
       "      <td>7</td>\n",
       "      <td>0.225806</td>\n",
       "      <td>0.387097</td>\n",
       "    </tr>\n",
       "    <tr>\n",
       "      <th>2</th>\n",
       "      <td>19.50이상 24.50미만</td>\n",
       "      <td>10</td>\n",
       "      <td>0.322581</td>\n",
       "      <td>0.709677</td>\n",
       "    </tr>\n",
       "    <tr>\n",
       "      <th>3</th>\n",
       "      <td>24.50이상 29.50미만</td>\n",
       "      <td>6</td>\n",
       "      <td>0.193548</td>\n",
       "      <td>0.903226</td>\n",
       "    </tr>\n",
       "    <tr>\n",
       "      <th>4</th>\n",
       "      <td>29.50이상 34.50미만</td>\n",
       "      <td>3</td>\n",
       "      <td>0.096774</td>\n",
       "      <td>1.000000</td>\n",
       "    </tr>\n",
       "  </tbody>\n",
       "</table>\n",
       "</div>"
      ],
      "text/plain": [
       "             level  do     ratio  Cumulative %\n",
       "0   9.50이상 14.50미만   5  0.161290      0.161290\n",
       "1  14.50이상 19.50미만   7  0.225806      0.387097\n",
       "2  19.50이상 24.50미만  10  0.322581      0.709677\n",
       "3  24.50이상 29.50미만   6  0.193548      0.903226\n",
       "4  29.50이상 34.50미만   3  0.096774      1.000000"
      ]
     },
     "execution_count": 159,
     "metadata": {},
     "output_type": "execute_result"
    }
   ],
   "source": [
    "temp_dosu['ratio'] = temp_dosu['do'] / temp_dosu['do'].sum()\n",
    "temp_dosu['Cumulative %'] = np.cumsum(temp_dosu['ratio'])\n",
    "temp_dosu"
   ]
  },
  {
   "cell_type": "code",
   "execution_count": 164,
   "metadata": {},
   "outputs": [
    {
     "data": {
      "image/png": "[encoded data removed]",
      "text/plain": [
       "<Figure size 792x288 with 1 Axes>"
      ]
     },
     "metadata": {
      "needs_background": "light"
     },
     "output_type": "display_data"
    },
    {
     "data": {
      "image/png": "[encoded data removed]",
      "text/plain": [
       "<Figure size 792x288 with 1 Axes>"
      ]
     },
     "metadata": {
      "needs_background": "light"
     },
     "output_type": "display_data"
    }
   ],
   "source": [
    "plt.figure(figsize=(11,4))\n",
    "sns.barplot(x=temp_dosu['level'], y=temp_dosu['do'])\n",
    "plt.show()\n",
    "\n",
    "plt.figure(figsize=(11,4))\n",
    "sns.lineplot(x=temp_dosu['level'], y=temp_dosu['do'],  marker='o')\n",
    "plt.show()"
   ]
  }
 ],
 "metadata": {
  "interpreter": {
   "hash": "4f3d3d6c5c69fb4fe3df8a42cd3cf8ec30e664976476b35ad609d0469663326d"
  },
  "kernelspec": {
   "display_name": "Python 3.9.7 ('my_env': venv)",
   "language": "python",
   "name": "python3"
  },
  "language_info": {
   "codemirror_mode": {
    "name": "ipython",
    "version": 3
   },
   "file_extension": ".py",
   "mimetype": "text/x-python",
   "name": "python",
   "nbconvert_exporter": "python",
   "pygments_lexer": "ipython3",
   "version": "3.9.7"
  },
  "orig_nbformat": 4
 },
 "nbformat": 4,
 "nbformat_minor": 2
}
